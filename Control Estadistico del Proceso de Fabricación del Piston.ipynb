{
 "cells": [
  {
   "cell_type": "markdown",
   "metadata": {},
   "source": [
    "# Control Estadistico del Proceso de Fabricación del Piston"
   ]
  },
  {
   "cell_type": "markdown",
   "metadata": {},
   "source": [
    "## Instalación de la libreria PySPC"
   ]
  },
  {
   "cell_type": "code",
   "execution_count": 2,
   "metadata": {},
   "outputs": [
    {
     "name": "stdout",
     "output_type": "stream",
     "text": [
      "Requirement already satisfied: pyspc in /home/jhonny/anaconda3/envs/supply-chain/lib/python3.7/site-packages (0.4)\n",
      "Requirement already satisfied: scipy in /home/jhonny/anaconda3/envs/supply-chain/lib/python3.7/site-packages (from pyspc) (1.3.1)\n",
      "Requirement already satisfied: numpy in /home/jhonny/anaconda3/envs/supply-chain/lib/python3.7/site-packages (from pyspc) (1.17.2)\n",
      "Requirement already satisfied: pandas in /home/jhonny/anaconda3/envs/supply-chain/lib/python3.7/site-packages (from pyspc) (0.25.2)\n",
      "Requirement already satisfied: matplotlib in /home/jhonny/anaconda3/envs/supply-chain/lib/python3.7/site-packages (from pyspc) (3.1.1)\n",
      "Requirement already satisfied: python-dateutil>=2.6.1 in /home/jhonny/anaconda3/envs/supply-chain/lib/python3.7/site-packages (from pandas->pyspc) (2.8.0)\n",
      "Requirement already satisfied: pytz>=2017.2 in /home/jhonny/anaconda3/envs/supply-chain/lib/python3.7/site-packages (from pandas->pyspc) (2019.3)\n",
      "Requirement already satisfied: cycler>=0.10 in /home/jhonny/anaconda3/envs/supply-chain/lib/python3.7/site-packages (from matplotlib->pyspc) (0.10.0)\n",
      "Requirement already satisfied: kiwisolver>=1.0.1 in /home/jhonny/anaconda3/envs/supply-chain/lib/python3.7/site-packages (from matplotlib->pyspc) (1.1.0)\n",
      "Requirement already satisfied: pyparsing!=2.0.4,!=2.1.2,!=2.1.6,>=2.0.1 in /home/jhonny/anaconda3/envs/supply-chain/lib/python3.7/site-packages (from matplotlib->pyspc) (2.4.2)\n",
      "Requirement already satisfied: six>=1.5 in /home/jhonny/anaconda3/envs/supply-chain/lib/python3.7/site-packages (from python-dateutil>=2.6.1->pandas->pyspc) (1.12.0)\n",
      "Requirement already satisfied: setuptools in /home/jhonny/anaconda3/envs/supply-chain/lib/python3.7/site-packages (from kiwisolver>=1.0.1->matplotlib->pyspc) (41.4.0)\n"
     ]
    }
   ],
   "source": [
    "!pip install pyspc"
   ]
  },
  {
   "cell_type": "code",
   "execution_count": 2,
   "metadata": {},
   "outputs": [],
   "source": [
    "import math\n",
    "import pandas as pd\n",
    "from pyspc import *"
   ]
  },
  {
   "cell_type": "markdown",
   "metadata": {},
   "source": [
    "## Carga de datos de las dimenciones del piston, donde Diameter_11 y Diameter_21 son las medidas de los extermos de piston"
   ]
  },
  {
   "cell_type": "code",
   "execution_count": 4,
   "metadata": {
    "scrolled": true
   },
   "outputs": [
    {
     "data": {
      "text/html": [
       "<div>\n",
       "<style scoped>\n",
       "    .dataframe tbody tr th:only-of-type {\n",
       "        vertical-align: middle;\n",
       "    }\n",
       "\n",
       "    .dataframe tbody tr th {\n",
       "        vertical-align: top;\n",
       "    }\n",
       "\n",
       "    .dataframe thead th {\n",
       "        text-align: right;\n",
       "    }\n",
       "</style>\n",
       "<table border=\"1\" class=\"dataframe\">\n",
       "  <thead>\n",
       "    <tr style=\"text-align: right;\">\n",
       "      <th></th>\n",
       "      <th>Diameter_11</th>\n",
       "      <th>Diameter_21</th>\n",
       "      <th>Diameter_31</th>\n",
       "      <th>Diameter_41</th>\n",
       "      <th>Length_1</th>\n",
       "      <th>Length_2</th>\n",
       "      <th>ID</th>\n",
       "    </tr>\n",
       "  </thead>\n",
       "  <tbody>\n",
       "    <tr>\n",
       "      <th>0</th>\n",
       "      <td>9.99</td>\n",
       "      <td>9.97</td>\n",
       "      <td>9.96</td>\n",
       "      <td>14.97</td>\n",
       "      <td>49.89</td>\n",
       "      <td>60.02</td>\n",
       "      <td>1</td>\n",
       "    </tr>\n",
       "    <tr>\n",
       "      <th>1</th>\n",
       "      <td>9.96</td>\n",
       "      <td>9.96</td>\n",
       "      <td>9.95</td>\n",
       "      <td>14.94</td>\n",
       "      <td>49.84</td>\n",
       "      <td>60.02</td>\n",
       "      <td>2</td>\n",
       "    </tr>\n",
       "    <tr>\n",
       "      <th>2</th>\n",
       "      <td>9.97</td>\n",
       "      <td>9.96</td>\n",
       "      <td>9.95</td>\n",
       "      <td>14.95</td>\n",
       "      <td>49.85</td>\n",
       "      <td>60.00</td>\n",
       "      <td>3</td>\n",
       "    </tr>\n",
       "    <tr>\n",
       "      <th>3</th>\n",
       "      <td>10.00</td>\n",
       "      <td>9.99</td>\n",
       "      <td>9.99</td>\n",
       "      <td>14.99</td>\n",
       "      <td>49.89</td>\n",
       "      <td>60.06</td>\n",
       "      <td>4</td>\n",
       "    </tr>\n",
       "    <tr>\n",
       "      <th>4</th>\n",
       "      <td>10.00</td>\n",
       "      <td>9.99</td>\n",
       "      <td>9.99</td>\n",
       "      <td>14.99</td>\n",
       "      <td>49.91</td>\n",
       "      <td>60.09</td>\n",
       "      <td>5</td>\n",
       "    </tr>\n",
       "  </tbody>\n",
       "</table>\n",
       "</div>"
      ],
      "text/plain": [
       "   Diameter_11  Diameter_21  Diameter_31  Diameter_41  Length_1  Length_2  ID\n",
       "0         9.99         9.97         9.96        14.97     49.89     60.02   1\n",
       "1         9.96         9.96         9.95        14.94     49.84     60.02   2\n",
       "2         9.97         9.96         9.95        14.95     49.85     60.00   3\n",
       "3        10.00         9.99         9.99        14.99     49.89     60.06   4\n",
       "4        10.00         9.99         9.99        14.99     49.91     60.09   5"
      ]
     },
     "execution_count": 4,
     "metadata": {},
     "output_type": "execute_result"
    }
   ],
   "source": [
    "diameters = pd.read_csv(\"diameter-dataset.csv\")\n",
    "diameters.head()"
   ]
  },
  {
   "cell_type": "markdown",
   "metadata": {},
   "source": [
    "## Necesitamos convertir el dataframe en array para ponerlo como parametro a la libreria PySPC"
   ]
  },
  {
   "cell_type": "code",
   "execution_count": 13,
   "metadata": {},
   "outputs": [
    {
     "name": "stdout",
     "output_type": "stream",
     "text": [
      "Tipo de dato del Diametro 11 <class 'pandas.core.series.Series'>\n",
      "Tipo de dato del Diametro 11 <class 'pandas.core.series.Series'>\n"
     ]
    }
   ],
   "source": [
    "Diameter_11 = diameters.Diameter_11\n",
    "print(\"Tipo de dato del Diametro 11\", type(Diameter_11))\n",
    "Diameter_21 = diameters.Diameter_21\n",
    "print(\"Tipo de dato del Diametro 11\", type(Diameter_11))"
   ]
  },
  {
   "cell_type": "code",
   "execution_count": 15,
   "metadata": {
    "scrolled": true
   },
   "outputs": [
    {
     "data": {
      "text/plain": [
       "array([[ 9.99,  9.97],\n",
       "       [ 9.96,  9.96],\n",
       "       [ 9.97,  9.96],\n",
       "       [10.  ,  9.99],\n",
       "       [10.  ,  9.99],\n",
       "       [ 9.99,  9.99],\n",
       "       [10.  ,  9.99],\n",
       "       [10.  ,  9.99],\n",
       "       [ 9.96,  9.95],\n",
       "       [ 9.99,  9.98],\n",
       "       [10.  ,  9.99],\n",
       "       [10.  ,  9.99],\n",
       "       [ 9.97,  9.96],\n",
       "       [ 9.97,  9.96],\n",
       "       [ 9.97,  9.97],\n",
       "       [ 9.97,  9.97],\n",
       "       [ 9.98,  9.97],\n",
       "       [ 9.98,  9.97],\n",
       "       [ 9.98,  9.98],\n",
       "       [ 9.98,  9.97],\n",
       "       [ 9.98,  9.97],\n",
       "       [ 9.98,  9.97],\n",
       "       [ 9.98,  9.97],\n",
       "       [10.  ,  9.99],\n",
       "       [ 9.99,  9.99],\n",
       "       [10.  ,  9.99],\n",
       "       [10.  , 10.  ],\n",
       "       [10.  ,  9.99],\n",
       "       [10.  ,  9.99],\n",
       "       [10.  , 10.  ]])"
      ]
     },
     "execution_count": 15,
     "metadata": {},
     "output_type": "execute_result"
    }
   ],
   "source": [
    "# Setup.\n",
    "df = pd.DataFrame({'A': Diameter_11, 'B': Diameter_21})\n",
    "abc = df.to_numpy()"
   ]
  },
  {
   "cell_type": "markdown",
   "metadata": {},
   "source": [
    "## Verificamos que las medidas del cilindro esten en el margen permitido, tambien se verifica si tiene algunos datos atipicos con la función rules()"
   ]
  },
  {
   "cell_type": "code",
   "execution_count": 16,
   "metadata": {
    "scrolled": true
   },
   "outputs": [
    {
     "data": {
      "image/png": "[encoded data removed]",
      "text/plain": [
       "<Figure size 432x288 with 2 Axes>"
      ]
     },
     "metadata": {
      "needs_background": "light"
     },
     "output_type": "display_data"
    },
    {
     "name": "stdout",
     "output_type": "stream",
     "text": [
      "<pyspc: (8778340734365)>\n"
     ]
    }
   ],
   "source": [
    "a=spc(abc)+ewma()+xbar_rbar()+rules()\n",
    "print(a)"
   ]
  }
 ],
 "metadata": {
  "kernelspec": {
   "display_name": "Python 3",
   "language": "python",
   "name": "python3"
  },
  "language_info": {
   "codemirror_mode": {
    "name": "ipython",
    "version": 3
   },
   "file_extension": ".py",
   "mimetype": "text/x-python",
   "name": "python",
   "nbconvert_exporter": "python",
   "pygments_lexer": "ipython3",
   "version": "3.7.4"
  }
 },
 "nbformat": 4,
 "nbformat_minor": 2
}
